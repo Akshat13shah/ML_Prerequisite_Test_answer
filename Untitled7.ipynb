{
  "nbformat": 4,
  "nbformat_minor": 0,
  "metadata": {
    "colab": {
      "provenance": [],
      "authorship_tag": "ABX9TyMwNasBtZn+7BKr36vCT6Ad",
      "include_colab_link": true
    },
    "kernelspec": {
      "name": "python3",
      "display_name": "Python 3"
    },
    "language_info": {
      "name": "python"
    }
  },
  "cells": [
    {
      "cell_type": "markdown",
      "metadata": {
        "id": "view-in-github",
        "colab_type": "text"
      },
      "source": [
        "<a href=\"https://colab.research.google.com/github/Akshat13shah/ML_Prerequisite_Test_answer/blob/main/Untitled7.ipynb\" target=\"_parent\"><img src=\"https://colab.research.google.com/assets/colab-badge.svg\" alt=\"Open In Colab\"/></a>"
      ]
    },
    {
      "cell_type": "code",
      "execution_count": 1,
      "metadata": {
        "colab": {
          "base_uri": "https://localhost:8080/"
        },
        "id": "PfMoJDkKAO2t",
        "outputId": "a00a7537-d55e-4680-d6bb-9624da168b4e"
      },
      "outputs": [
        {
          "output_type": "execute_result",
          "data": {
            "text/plain": [
              "{'Median (Naive)': 50142,\n",
              " 'Time (Naive)': 1.12429,\n",
              " 'Median (Sorted)': 50142,\n",
              " 'Time (Sorted)': 0.00276,\n",
              " 'Median (NumPy)': np.float64(50142.0),\n",
              " 'Time (NumPy)': 0.00588}"
            ]
          },
          "metadata": {},
          "execution_count": 1
        }
      ],
      "source": [
        "import random\n",
        "import numpy as np\n",
        "import time\n",
        "\n",
        "# Generating a random list of 10,001 elements (odd length to simplify median)\n",
        "n = 10001\n",
        "original_list = [random.randint(1, 100000) for i in range(n)]\n",
        "\n",
        "# Make copies for different methods\n",
        "list_numpy = original_list.copy()\n",
        "list_naive = original_list.copy()\n",
        "list_sorted = original_list.copy()\n",
        "\n",
        "#NumPy Median\n",
        "start_np = time.time()\n",
        "median_np = np.median(list_numpy)\n",
        "end_np = time.time()\n",
        "time_np = end_np - start_np\n",
        "\n",
        "#Naive Median\n",
        "start_naive = time.time()\n",
        "# Removing the largest elements len//2 times\n",
        "for _ in range(len(list_naive) // 2):\n",
        "    max_val = max(list_naive)\n",
        "    list_naive.remove(max_val)\n",
        "# Now the next max is the median\n",
        "median_naive = max(list_naive)\n",
        "end_naive = time.time()\n",
        "time_naive = end_naive - start_naive\n",
        "\n",
        "#Sorted Median\n",
        "start_sort = time.time()\n",
        "list_sorted.sort()\n",
        "if len(list_sorted) % 2 == 1:\n",
        "    median_sorted = list_sorted[len(list_sorted) // 2]\n",
        "else:\n",
        "    i = len(list_sorted) // 2\n",
        "    median_sorted = (list_sorted[i - 1] + list_sorted[i]) / 2\n",
        "end_sort = time.time()\n",
        "time_sorted = end_sort - start_sort\n",
        "\n",
        "#Results\n",
        "{\n",
        "    \"Median (Naive)\": median_naive,\n",
        "    \"Time (Naive)\": round(time_naive, 5),\n",
        "    \"Median (Sorted)\": median_sorted,\n",
        "    \"Time (Sorted)\": round(time_sorted, 5),\n",
        "    \"Median (NumPy)\": median_np,\n",
        "    \"Time (NumPy)\": round(time_np, 5)\n",
        "}"
      ]
    }
  ]
}